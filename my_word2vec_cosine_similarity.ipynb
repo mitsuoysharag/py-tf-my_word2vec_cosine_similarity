{
  "nbformat": 4,
  "nbformat_minor": 0,
  "metadata": {
    "colab": {
      "name": "My_Word2vec & CosineSimilarity.ipynb",
      "version": "0.3.2",
      "provenance": [],
      "collapsed_sections": []
    },
    "kernelspec": {
      "name": "python3",
      "display_name": "Python 3"
    },
    "accelerator": "GPU"
  },
  "cells": [
    {
      "cell_type": "code",
      "metadata": {
        "id": "Hr1np7hd90yy",
        "colab_type": "code",
        "colab": {}
      },
      "source": [
        "import numpy as np\n",
        "import tensorflow as tf\n",
        "\n",
        "def removeChars(remove_chars, text):\n",
        "  for rchar in remove_chars:\n",
        "    text = text.replace(rchar, ' ')\n",
        "  return text\n",
        "\n",
        "def removeWords(remove_words, text):\n",
        "  text_words = text.split()\n",
        "  text = [word for word in text_words if word not in remove_words]\n",
        "  return ' '.join(text)\n",
        "\n",
        "def replaceChars(chars, new_char, text):\n",
        "  for char in chars:\n",
        "    text = text.replace(char, new_char)\n",
        "  return text\n",
        "\n",
        "def to_one_hot(data_point_idx, vocab_size):\n",
        "  temp = np.zeros(vocab_size)\n",
        "  temp[data_point_idx] = 1\n",
        "  return temp\n",
        "\n",
        "def word2vec(word, int2vec):\n",
        "  if(word not in word2int):\n",
        "    return 0\n",
        "  else:\n",
        "    return int2vec[word2int[word]]\n",
        "\n",
        "def cosine_similarity(vec1, vec2):\n",
        "  return np.dot(vec1, vec2)/(np.linalg.norm(vec1)*np.linalg.norm(vec2))\n",
        "\n",
        "def euclidean_dist(vec1, vec2):\n",
        "  return np.sqrt(np.sum((vec1-vec2)**2))\n",
        "\n",
        "def find_closest_euclidean_dist(word_index, int2vec):\n",
        "  min_dist = 10000 # to act like positive infinity\n",
        "  min_index = -1\n",
        "  query_vector = int2vec[word_index]\n",
        "  for index, vector in enumerate(int2vec):\n",
        "    if euclidean_dist(vector, query_vector) < min_dist and not np.array_equal(vector, query_vector):\n",
        "      min_dist = euclidean_dist(vector, query_vector)\n",
        "      min_index = index\n",
        "  return min_index, min_dist\n",
        "\n",
        "def find_closest_cosine_similarity(word_index, int2vec):\n",
        "  max_dist = -10000 # to act like positive infinity\n",
        "  max_index = -1\n",
        "  query_vector = int2vec[word_index]\n",
        "  for index, vector in enumerate(int2vec):\n",
        "    if cosine_similarity(vector, query_vector) > max_dist and not np.array_equal(vector, query_vector):\n",
        "      max_dist = cosine_similarity(vector, query_vector)\n",
        "      max_index = index\n",
        "  return max_index, max_dist"
      ],
      "execution_count": 0,
      "outputs": []
    },
    {
      "cell_type": "code",
      "metadata": {
        "id": "J56eeHvo-ssz",
        "colab_type": "code",
        "outputId": "c11f7cd7-dde0-4ef6-801c-ce3cddb98e06",
        "colab": {
          "base_uri": "https://localhost:8080/",
          "height": 71
        }
      },
      "source": [
        "corpus = [\n",
        "    '¿Qué es un lenguaje de programación?',\n",
        "    '¿Qué es un compilador?',\n",
        "    '¿Qué lenguaje de programación enseñan?',\n",
        "    '¿Importa en qué línea pongo mi código?',\n",
        "    '¿Cómo imprimo mis programas?',\n",
        "    '¿Cuál es la diferencia entre === y ==?',\n",
        "    '¿Cuándo uso un bucle for y cuándo un while?',\n",
        "    '¿Para qué necesito variables, no es más fácil simplemente ingresar el número?',\n",
        "    '¿Cómo aprendo a programar?',\n",
        "    '¿Qué es la programación orientada a objetos?',\n",
        "    '¿Qué editor utilizas?',\n",
        "    '¿Qué es un código fuente?',\n",
        "    '¿Qué es un código máquina?',\n",
        "    '¿Qué es un archivo ejecutable?',\n",
        "    '¿En qué consiste la recursividad?']\n",
        "\n",
        "# Sentences\n",
        "sentences = [sentence.lower() for sentence in corpus]\n",
        "sentences = [removeChars(['¿','?',','], sentence) for sentence in sentences]\n",
        "sentences = [removeWords(['es','un','una','qué','el','la','de', 'al', 'a', 'no', 'cómo', 'cuál', 'para', 'cuándo', 'en', 'mi', 'mis', 'más', 'entre', 'y'], sentence) for sentence in sentences]\n",
        "sentences = [sentence.split() for sentence in sentences]\n",
        "print(sentences)\n",
        "\n",
        "# Words\n",
        "words = []\n",
        "for sentence in sentences:\n",
        "  words.extend(sentence)\n",
        "words = set(words)\n",
        "print(words)\n",
        "\n",
        "# Sentences\n",
        "word2int = {}\n",
        "int2word = {}\n",
        "\n",
        "vocab_size = len(words)\n",
        "for word_idx, word in enumerate(words):\n",
        "  word2int[word] = word_idx\n",
        "  int2word[word_idx] = word"
      ],
      "execution_count": 0,
      "outputs": [
        {
          "output_type": "stream",
          "text": [
            "[['lenguaje', 'programación'], ['compilador'], ['lenguaje', 'programación', 'enseñan'], ['importa', 'línea', 'pongo', 'código'], ['imprimo', 'programas'], ['diferencia', '===', '=='], ['uso', 'bucle', 'for', 'while'], ['necesito', 'variables', 'fácil', 'simplemente', 'ingresar', 'número'], ['aprendo', 'programar'], ['programación', 'orientada', 'objetos'], ['editor', 'utilizas'], ['código', 'fuente'], ['código', 'máquina'], ['archivo', 'ejecutable'], ['consiste', 'recursividad']]\n",
            "{'fácil', 'línea', 'fuente', 'bucle', 'variables', 'programas', 'archivo', 'ejecutable', 'número', '===', 'importa', 'recursividad', 'código', 'compilador', 'utilizas', 'diferencia', 'programar', 'objetos', 'while', 'ingresar', 'uso', 'enseñan', 'simplemente', 'imprimo', 'for', 'orientada', '==', 'pongo', 'aprendo', 'máquina', 'lenguaje', 'editor', 'consiste', 'necesito', 'programación'}\n"
          ],
          "name": "stdout"
        }
      ]
    },
    {
      "cell_type": "code",
      "metadata": {
        "id": "fuJqLVMoPZcn",
        "colab_type": "code",
        "outputId": "4d39d097-026e-44cc-b008-720f1a3b4a30",
        "colab": {
          "base_uri": "https://localhost:8080/",
          "height": 292
        }
      },
      "source": [
        "# Data\n",
        "data = []\n",
        "WINDOW_SIZE = 2\n",
        "\n",
        "for sentence in sentences:\n",
        "  for word_idx, word in enumerate(sentence):\n",
        "    for word_neighbor in sentence[max(0, word_idx - WINDOW_SIZE) : min(word_idx + WINDOW_SIZE , len(sentence) - 1) + 1]:\n",
        "      if word_neighbor != word:\n",
        "        data.append([word, word_neighbor])\n",
        "print(data)\n",
        "\n",
        "x_train = []\n",
        "y_train = []\n",
        "\n",
        "for data_word in data:\n",
        "  x_train.append(to_one_hot(word2int[data_word[0]], vocab_size))\n",
        "  y_train.append(to_one_hot(word2int[data_word[1]], vocab_size))  \n",
        "  \n",
        "x_train = np.asarray(x_train)\n",
        "y_train = np.asarray(y_train)\n",
        "print(x_train, y_train)\n",
        "print(x_train.shape, y_train.shape)"
      ],
      "execution_count": 0,
      "outputs": [
        {
          "output_type": "stream",
          "text": [
            "[['lenguaje', 'programación'], ['programación', 'lenguaje'], ['lenguaje', 'programación'], ['lenguaje', 'enseñan'], ['programación', 'lenguaje'], ['programación', 'enseñan'], ['enseñan', 'lenguaje'], ['enseñan', 'programación'], ['importa', 'línea'], ['importa', 'pongo'], ['línea', 'importa'], ['línea', 'pongo'], ['línea', 'código'], ['pongo', 'importa'], ['pongo', 'línea'], ['pongo', 'código'], ['código', 'línea'], ['código', 'pongo'], ['imprimo', 'programas'], ['programas', 'imprimo'], ['diferencia', '==='], ['diferencia', '=='], ['===', 'diferencia'], ['===', '=='], ['==', 'diferencia'], ['==', '==='], ['uso', 'bucle'], ['uso', 'for'], ['bucle', 'uso'], ['bucle', 'for'], ['bucle', 'while'], ['for', 'uso'], ['for', 'bucle'], ['for', 'while'], ['while', 'bucle'], ['while', 'for'], ['necesito', 'variables'], ['necesito', 'fácil'], ['variables', 'necesito'], ['variables', 'fácil'], ['variables', 'simplemente'], ['fácil', 'necesito'], ['fácil', 'variables'], ['fácil', 'simplemente'], ['fácil', 'ingresar'], ['simplemente', 'variables'], ['simplemente', 'fácil'], ['simplemente', 'ingresar'], ['simplemente', 'número'], ['ingresar', 'fácil'], ['ingresar', 'simplemente'], ['ingresar', 'número'], ['número', 'simplemente'], ['número', 'ingresar'], ['aprendo', 'programar'], ['programar', 'aprendo'], ['programación', 'orientada'], ['programación', 'objetos'], ['orientada', 'programación'], ['orientada', 'objetos'], ['objetos', 'programación'], ['objetos', 'orientada'], ['editor', 'utilizas'], ['utilizas', 'editor'], ['código', 'fuente'], ['fuente', 'código'], ['código', 'máquina'], ['máquina', 'código'], ['archivo', 'ejecutable'], ['ejecutable', 'archivo'], ['consiste', 'recursividad'], ['recursividad', 'consiste']]\n",
            "[[0. 0. 0. ... 0. 0. 0.]\n",
            " [0. 0. 0. ... 0. 0. 1.]\n",
            " [0. 0. 0. ... 0. 0. 0.]\n",
            " ...\n",
            " [0. 0. 0. ... 0. 0. 0.]\n",
            " [0. 0. 0. ... 1. 0. 0.]\n",
            " [0. 0. 0. ... 0. 0. 0.]] [[0. 0. 0. ... 0. 0. 1.]\n",
            " [0. 0. 0. ... 0. 0. 0.]\n",
            " [0. 0. 0. ... 0. 0. 1.]\n",
            " ...\n",
            " [0. 0. 0. ... 0. 0. 0.]\n",
            " [0. 0. 0. ... 0. 0. 0.]\n",
            " [0. 0. 0. ... 1. 0. 0.]]\n",
            "(72, 35) (72, 35)\n"
          ],
          "name": "stdout"
        }
      ]
    },
    {
      "cell_type": "code",
      "metadata": {
        "id": "E2wMQNXsRhZb",
        "colab_type": "code",
        "colab": {}
      },
      "source": [
        "# Model\n",
        "EMBEDDING_DIM = 10\n",
        "\n",
        "x = tf.placeholder(tf.float32, shape=(None, vocab_size))\n",
        "y = tf.placeholder(tf.float32, shape=(None, vocab_size))\n",
        "\n",
        "W1 = tf.Variable(tf.random_normal([vocab_size, EMBEDDING_DIM]))\n",
        "b1 = tf.Variable(tf.random_normal([EMBEDDING_DIM])) #bias\n",
        "hidden_representation = tf.add(tf.matmul(x,W1), b1)\n",
        "\n",
        "W2 = tf.Variable(tf.random_normal([EMBEDDING_DIM, vocab_size]))\n",
        "b2 = tf.Variable(tf.random_normal([vocab_size]))\n",
        "prediction = tf.nn.softmax(tf.add( tf.matmul(hidden_representation, W2), b2))"
      ],
      "execution_count": 0,
      "outputs": []
    },
    {
      "cell_type": "code",
      "metadata": {
        "id": "7CDD1JX0RtF0",
        "colab_type": "code",
        "outputId": "0de3702a-aa79-4b3b-ac3a-4c188d570037",
        "colab": {
          "base_uri": "https://localhost:8080/",
          "height": 357
        }
      },
      "source": [
        ""
      ],
      "execution_count": 0,
      "outputs": [
        {
          "output_type": "stream",
          "text": [
            "Loss in 0 is: 9.065935134887695\n",
            "Loss in 1000 is: 3.3575074672698975\n",
            "Loss in 2000 is: 2.2417328357696533\n",
            "Loss in 3000 is: 1.6735219955444336\n",
            "Loss in 4000 is: 1.372108817100525\n",
            "Loss in 5000 is: 1.2084364891052246\n",
            "Loss in 6000 is: 1.110062599182129\n",
            "Loss in 7000 is: 1.0458849668502808\n",
            "Loss in 8000 is: 1.0018970966339111\n",
            "Loss in 9000 is: 0.970647394657135\n",
            "Loss in 10000 is: 0.9477781653404236\n",
            "Loss in 11000 is: 0.9306064248085022\n",
            "Loss in 12000 is: 0.9174143671989441\n",
            "Loss in 13000 is: 0.9070685505867004\n",
            "Loss in 14000 is: 0.8988023400306702\n",
            "Loss in 15000 is: 0.8920857906341553\n",
            "Loss in 16000 is: 0.8865461945533752\n",
            "Loss in 17000 is: 0.8819155097007751\n",
            "Loss in 18000 is: 0.8779979944229126\n",
            "Loss in 19000 is: 0.8746480941772461\n"
          ],
          "name": "stdout"
        }
      ]
    },
    {
      "cell_type": "code",
      "metadata": {
        "id": "b9Nv_PfqS04u",
        "colab_type": "code",
        "outputId": "0c09dbee-7832-4d4d-96cd-63908d8d76f5",
        "colab": {
          "base_uri": "https://localhost:8080/",
          "height": 51
        }
      },
      "source": [
        "# Int to Vector\n",
        "int2vec = sess.run(W1 + b1)\n",
        "# print(int2vec)\n",
        "\n",
        "print(word2vec('código', int2vec))"
      ],
      "execution_count": 0,
      "outputs": [
        {
          "output_type": "stream",
          "text": [
            "[-1.1042812  2.9002814  2.3381248  1.0156506  0.7340162 -1.246618\n",
            "  0.2800207 -1.0904531  1.4586371 -1.2897786]\n"
          ],
          "name": "stdout"
        }
      ]
    },
    {
      "cell_type": "code",
      "metadata": {
        "id": "pk_FSeXRVLwh",
        "colab_type": "code",
        "outputId": "3a78e1c3-0ea8-4f58-949e-59386c312d83",
        "colab": {
          "base_uri": "https://localhost:8080/",
          "height": 629
        }
      },
      "source": [
        "# Word Similarity\n",
        "print('Cosine Similarity')\n",
        "for word in words:\n",
        "  idx, dis = find_closest_cosine_similarity(word2int[word], int2vec)\n",
        "  print('{} -> {} ({})'.format(word, int2word[idx], dis))\n",
        "  \n",
        "# print('\\nEuclidean Distance')\n",
        "# for word in words:\n",
        "#   idx, dis = find_closest_euclidean_dist(word2int[word], int2vec)\n",
        "#   print('{} -> {} ({})'.format(word, int2word[idx], dis))"
      ],
      "execution_count": 0,
      "outputs": [
        {
          "output_type": "stream",
          "text": [
            "Cosine Similarity\n",
            "fácil -> variables (0.6715167760848999)\n",
            "línea -> importa (0.8054413795471191)\n",
            "fuente -> pongo (0.6003442406654358)\n",
            "bucle -> for (0.6461241841316223)\n",
            "variables -> imprimo (0.6813637018203735)\n",
            "programas -> pongo (0.6864524483680725)\n",
            "archivo -> objetos (0.25295379757881165)\n",
            "ejecutable -> bucle (0.5732983350753784)\n",
            "número -> línea (0.6013498902320862)\n",
            "=== -> == (0.7513993382453918)\n",
            "importa -> línea (0.8054413795471191)\n",
            "recursividad -> programar (0.5482661724090576)\n",
            "código -> simplemente (0.583342969417572)\n",
            "compilador -> fuente (0.457430362701416)\n",
            "utilizas -> objetos (0.7300836443901062)\n",
            "diferencia -> objetos (0.6978047490119934)\n",
            "programar -> consiste (0.6808789968490601)\n",
            "objetos -> utilizas (0.7300836443901062)\n",
            "while -> uso (0.7592750191688538)\n",
            "ingresar -> simplemente (0.7138216495513916)\n",
            "uso -> while (0.7592750191688538)\n",
            "enseñan -> lenguaje (0.7668620347976685)\n",
            "simplemente -> necesito (0.7260639667510986)\n",
            "imprimo -> variables (0.6813637018203735)\n",
            "for -> bucle (0.6461241841316223)\n",
            "orientada -> lenguaje (0.7553907036781311)\n",
            "== -> === (0.7513993382453918)\n",
            "pongo -> lenguaje (0.7048836946487427)\n",
            "aprendo -> código (0.5564024448394775)\n",
            "máquina -> línea (0.6290810704231262)\n",
            "lenguaje -> enseñan (0.7668620347976685)\n",
            "editor -> uso (0.6949255466461182)\n",
            "consiste -> línea (0.7242559790611267)\n",
            "necesito -> simplemente (0.7260639667510986)\n",
            "programación -> utilizas (0.47963693737983704)\n"
          ],
          "name": "stdout"
        }
      ]
    },
    {
      "cell_type": "code",
      "metadata": {
        "id": "3Rfd_DQpWflD",
        "colab_type": "code",
        "outputId": "b7311089-6a91-4082-cf73-4b47a041993f",
        "colab": {
          "base_uri": "https://localhost:8080/",
          "height": 272
        }
      },
      "source": [
        "# Sentences\n",
        "sentences = [sentence.lower() for sentence in corpus]\n",
        "sentences = [removeChars(['¿','?',','], sentence) for sentence in sentences]\n",
        "sentences = [removeWords(['es','un','una','qué','el','la','de', 'al', 'a', 'no', 'cómo', 'cuál', 'para', 'cuándo', 'en', 'mi', 'mis', 'más', 'entre', 'y'], sentence) for sentence in sentences]\n",
        "\n",
        "def sentence2vec(sentence):\n",
        "  words = sentence.split()\n",
        "  count = len(words)\n",
        "  meaning = 0\n",
        "  for word in words:\n",
        "    meaning += word2vec(word, int2vec)\n",
        "  meaning /= count\n",
        "  \n",
        "  return meaning\n",
        "\n",
        "def closestSentence(sentence, sentences, include_itself=True, show_all=False):\n",
        "  max_similarity = 0\n",
        "  best_sentence = ''\n",
        "  for other_sentence in sentences:\n",
        "    try:\n",
        "      similarity = cosine_similarity(sentence2vec(sentence), sentence2vec(other_sentence))\n",
        "      if max_similarity < similarity:\n",
        "        if include_itself or sentence!=other_sentence:\n",
        "          max_similarity = similarity\n",
        "          best_sentence = other_sentence\n",
        "    except:\n",
        "      pass\n",
        "  return (max_similarity, best_sentence if max_similarity != 0 else 'No entendí tu pregunta')\n",
        "#   return 0, 'No entendí tu pregunta'\n",
        "\n",
        "for sentence in sentences:\n",
        "  print(sentence + ' -> ' + closestSentence(sentence, sentences, include_itself=False)[1])"
      ],
      "execution_count": 0,
      "outputs": [
        {
          "output_type": "stream",
          "text": [
            "lenguaje programación -> lenguaje programación enseñan\n",
            "compilador -> aprendo programar\n",
            "lenguaje programación enseñan -> lenguaje programación\n",
            "importa línea pongo código -> aprendo programar\n",
            "imprimo programas -> importa línea pongo código\n",
            "diferencia === == -> programación orientada objetos\n",
            "uso bucle for while -> editor utilizas\n",
            "necesito variables fácil simplemente ingresar número -> imprimo programas\n",
            "aprendo programar -> consiste recursividad\n",
            "programación orientada objetos -> lenguaje programación\n",
            "editor utilizas -> programación orientada objetos\n",
            "código fuente -> código máquina\n",
            "código máquina -> código fuente\n",
            "archivo ejecutable -> uso bucle for while\n",
            "consiste recursividad -> aprendo programar\n"
          ],
          "name": "stdout"
        }
      ]
    },
    {
      "cell_type": "code",
      "metadata": {
        "id": "CGxetS-j_08J",
        "colab_type": "code",
        "outputId": "c27c57f7-0f24-41fe-e7a9-0306dc60f083",
        "colab": {
          "base_uri": "https://localhost:8080/",
          "height": 51
        }
      },
      "source": [
        "my_question = 'para que necesito variables?'\n",
        "my_question = my_question.lower()\n",
        "my_question = removeChars(['¿','?',','], my_question)\n",
        "my_question = removeWords(['es','un','una','qué','el','la','de', 'al', 'a', 'no', 'cómo', 'cuál', 'para', 'cuándo', 'en', 'mi', 'mis', 'más', 'entre', 'y'], my_question)\n",
        "\n",
        "max_similarity, best_sentence = closestSentence(my_question, sentences)\n",
        "print('\\nBest match: {} ({})'.format(best_sentence, max_similarity))"
      ],
      "execution_count": 0,
      "outputs": [
        {
          "output_type": "stream",
          "text": [
            "\n",
            "Best match: necesito variables fácil simplemente ingresar número (0.9196069836616516)\n"
          ],
          "name": "stdout"
        }
      ]
    },
    {
      "cell_type": "code",
      "metadata": {
        "id": "oxVinx45Dft6",
        "colab_type": "code",
        "colab": {}
      },
      "source": [
        ""
      ],
      "execution_count": 0,
      "outputs": []
    }
  ]
}